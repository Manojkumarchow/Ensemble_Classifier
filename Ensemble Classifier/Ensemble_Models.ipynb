{
  "nbformat": 4,
  "nbformat_minor": 0,
  "metadata": {
    "colab": {
      "name": "Ensemble Models.ipynb",
      "provenance": []
    },
    "kernelspec": {
      "name": "python3",
      "display_name": "Python 3"
    }
  },
  "cells": [
    {
      "cell_type": "code",
      "metadata": {
        "id": "7UX9LcjijdNq",
        "colab_type": "code",
        "colab": {}
      },
      "source": [
        "import pandas as pd"
      ],
      "execution_count": 0,
      "outputs": []
    },
    {
      "cell_type": "code",
      "metadata": {
        "id": "RIO5XIWdkDXd",
        "colab_type": "code",
        "colab": {}
      },
      "source": [
        "data = pd.read_csv('diabetes.csv')"
      ],
      "execution_count": 0,
      "outputs": []
    },
    {
      "cell_type": "markdown",
      "metadata": {
        "id": "2_8RKf9gonD7",
        "colab_type": "text"
      },
      "source": [
        ""
      ]
    },
    {
      "cell_type": "code",
      "metadata": {
        "id": "-xOyXBwPkIb6",
        "colab_type": "code",
        "colab": {}
      },
      "source": [
        "data.head()"
      ],
      "execution_count": 0,
      "outputs": []
    },
    {
      "cell_type": "code",
      "metadata": {
        "id": "BSU_pdLnkJhl",
        "colab_type": "code",
        "colab": {}
      },
      "source": [
        "Y = data['Outcome']\n",
        "X = data.drop(['Outcome'], axis=1)"
      ],
      "execution_count": 0,
      "outputs": []
    },
    {
      "cell_type": "code",
      "metadata": {
        "id": "Wd11rZk6kTqI",
        "colab_type": "code",
        "colab": {}
      },
      "source": [
        "from sklearn.model_selection import train_test_split\n",
        "X_train, X_test, Y_train, Y_test = train_test_split(X, Y, test_size=0.2, stratify=Y)"
      ],
      "execution_count": 0,
      "outputs": []
    },
    {
      "cell_type": "code",
      "metadata": {
        "id": "7eve1iZ-kgId",
        "colab_type": "code",
        "colab": {}
      },
      "source": [
        "import numpy as np\n",
        "from sklearn.model_selection import GridSearchCV\n",
        "from sklearn.neighbors import KNeighborsClassifier"
      ],
      "execution_count": 0,
      "outputs": []
    },
    {
      "cell_type": "code",
      "metadata": {
        "id": "t0ZIdDrQlIaG",
        "colab_type": "code",
        "colab": {}
      },
      "source": [
        "knn = KNeighborsClassifier()"
      ],
      "execution_count": 0,
      "outputs": []
    },
    {
      "cell_type": "code",
      "metadata": {
        "id": "8Hqb523alMV3",
        "colab_type": "code",
        "colab": {}
      },
      "source": [
        "params_knn = {'n_neighbors': np.arange(1, 25)}\n",
        "\n",
        "knn_gs = GridSearchCV(knn, params_knn, cv=5)\n",
        "\n",
        "knn_gs.fit(X_train, Y_train)"
      ],
      "execution_count": 0,
      "outputs": []
    },
    {
      "cell_type": "code",
      "metadata": {
        "id": "6aQJfuRBl-kq",
        "colab_type": "code",
        "colab": {}
      },
      "source": [
        "knn_best = knn_gs.best_estimator_\n",
        "\n",
        "print(knn_gs.best_params_)"
      ],
      "execution_count": 0,
      "outputs": []
    },
    {
      "cell_type": "code",
      "metadata": {
        "id": "bWcB7MNCmDNq",
        "colab_type": "code",
        "colab": {}
      },
      "source": [
        "from sklearn.ensemble import RandomForestClassifier\n",
        "\n",
        "rf = RandomForestClassifier()\n",
        "\n",
        "params_rf = {'n_estimators': [50, 100, 200]}\n",
        "\n",
        "rf_gs = GridSearchCV(rf, params_rf, cv=5)\n",
        "\n",
        "rf_gs.fit(X_train, Y_train)"
      ],
      "execution_count": 0,
      "outputs": []
    },
    {
      "cell_type": "code",
      "metadata": {
        "id": "agA4iloWmntS",
        "colab_type": "code",
        "colab": {}
      },
      "source": [
        "rf_best = rf_gs.best_estimator_\n",
        "\n",
        "print(rf_gs.best_params_)"
      ],
      "execution_count": 0,
      "outputs": []
    },
    {
      "cell_type": "code",
      "metadata": {
        "id": "5AY4CFJrm3k-",
        "colab_type": "code",
        "colab": {}
      },
      "source": [
        "from sklearn.svm import SVC\n",
        "\n",
        "svc = SVC()\n",
        "\n",
        "svc.fit(X_train, Y_train)"
      ],
      "execution_count": 0,
      "outputs": []
    },
    {
      "cell_type": "code",
      "metadata": {
        "id": "jVhhlML2nO2H",
        "colab_type": "code",
        "colab": {}
      },
      "source": [
        "print('knn: {}'.format(knn_best.score(X_test, Y_test)))\n",
        "print('rf: {}'.format(rf_best.score(X_test, Y_test)))\n",
        "print('log_reg: {}'.format(svc.score(X_test, Y_test)))"
      ],
      "execution_count": 0,
      "outputs": []
    },
    {
      "cell_type": "code",
      "metadata": {
        "id": "UW-Bil0pnoVC",
        "colab_type": "code",
        "colab": {}
      },
      "source": [
        "from sklearn.ensemble import VotingClassifier\n",
        "\n",
        "estimators = [('knn', knn_best), ('rf', rf_best), ('svm', svc)]"
      ],
      "execution_count": 0,
      "outputs": []
    },
    {
      "cell_type": "code",
      "metadata": {
        "id": "CBQ4FEnsn4kO",
        "colab_type": "code",
        "colab": {}
      },
      "source": [
        "ensemble_clf = VotingClassifier(estimators, voting='hard')"
      ],
      "execution_count": 0,
      "outputs": []
    },
    {
      "cell_type": "code",
      "metadata": {
        "id": "3rzkcwI0oBXz",
        "colab_type": "code",
        "colab": {}
      },
      "source": [
        "ensemble_clf.fit(X_train, Y_train)"
      ],
      "execution_count": 0,
      "outputs": []
    },
    {
      "cell_type": "code",
      "metadata": {
        "id": "b7Hr7WuzoHW8",
        "colab_type": "code",
        "colab": {}
      },
      "source": [
        "ensemble_clf.score(X_test, Y_test)"
      ],
      "execution_count": 0,
      "outputs": []
    }
  ]
}